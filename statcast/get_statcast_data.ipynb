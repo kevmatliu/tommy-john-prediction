{
 "cells": [
  {
   "cell_type": "code",
   "execution_count": 19,
   "metadata": {},
   "outputs": [],
   "source": [
    "import sqlite3"
   ]
  },
  {
   "cell_type": "code",
   "execution_count": 20,
   "metadata": {},
   "outputs": [],
   "source": [
    "conn = sqlite3.connect('../database/pitcher_stats.db')"
   ]
  },
  {
   "cell_type": "code",
   "execution_count": 21,
   "metadata": {},
   "outputs": [],
   "source": [
    "import pandas as pd\n",
    "from pybaseball import statcast_pitcher_pitch_arsenal"
   ]
  },
  {
   "cell_type": "code",
   "execution_count": 22,
   "metadata": {},
   "outputs": [],
   "source": [
    "arsenals = [\"avg_speed\", \"n_\", \"avg_spin\"]\n",
    "for year in range(2008, 2023):\n",
    "    df = pd.DataFrame()\n",
    "    for arsenal in arsenals:\n",
    "        temp_df = statcast_pitcher_pitch_arsenal(year, 25, arsenal)\n",
    "\n",
    "        if df.empty:\n",
    "            df = temp_df\n",
    "        else:\n",
    "            df = pd.merge(df, temp_df, on=[\"pitcher\", \"last_name, first_name\"])\n",
    "        \n",
    "    df[\"year\"] = year\n",
    "    df.to_sql(\"pitch_arsenal\", conn, if_exists='append', index=False)"
   ]
  },
  {
   "cell_type": "code",
   "execution_count": 24,
   "metadata": {},
   "outputs": [],
   "source": [
    "conn.close()"
   ]
  }
 ],
 "metadata": {
  "kernelspec": {
   "display_name": ".venv",
   "language": "python",
   "name": "python3"
  },
  "language_info": {
   "codemirror_mode": {
    "name": "ipython",
    "version": 3
   },
   "file_extension": ".py",
   "mimetype": "text/x-python",
   "name": "python",
   "nbconvert_exporter": "python",
   "pygments_lexer": "ipython3",
   "version": "3.9.6"
  }
 },
 "nbformat": 4,
 "nbformat_minor": 2
}
