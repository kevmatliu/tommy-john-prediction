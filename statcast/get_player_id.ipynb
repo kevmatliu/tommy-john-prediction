{
 "cells": [
  {
   "cell_type": "code",
   "execution_count": 1,
   "metadata": {},
   "outputs": [],
   "source": [
    "import pandas as pd"
   ]
  },
  {
   "cell_type": "code",
   "execution_count": 2,
   "metadata": {},
   "outputs": [
    {
     "name": "stderr",
     "output_type": "stream",
     "text": [
      "/var/folders/38/nnmd9r6n6_14yltphkbwq2nm0000gn/T/ipykernel_7638/1368915587.py:5: DtypeWarning: Columns (9) have mixed types. Specify dtype option on import or set low_memory=False.\n",
      "  data = pd.read_csv(f\"../register/data/people-{s}.csv\")\n",
      "/var/folders/38/nnmd9r6n6_14yltphkbwq2nm0000gn/T/ipykernel_7638/1368915587.py:5: DtypeWarning: Columns (9) have mixed types. Specify dtype option on import or set low_memory=False.\n",
      "  data = pd.read_csv(f\"../register/data/people-{s}.csv\")\n",
      "/var/folders/38/nnmd9r6n6_14yltphkbwq2nm0000gn/T/ipykernel_7638/1368915587.py:5: DtypeWarning: Columns (9,10) have mixed types. Specify dtype option on import or set low_memory=False.\n",
      "  data = pd.read_csv(f\"../register/data/people-{s}.csv\")\n",
      "/var/folders/38/nnmd9r6n6_14yltphkbwq2nm0000gn/T/ipykernel_7638/1368915587.py:5: DtypeWarning: Columns (9) have mixed types. Specify dtype option on import or set low_memory=False.\n",
      "  data = pd.read_csv(f\"../register/data/people-{s}.csv\")\n",
      "/var/folders/38/nnmd9r6n6_14yltphkbwq2nm0000gn/T/ipykernel_7638/1368915587.py:5: DtypeWarning: Columns (8,10) have mixed types. Specify dtype option on import or set low_memory=False.\n",
      "  data = pd.read_csv(f\"../register/data/people-{s}.csv\")\n",
      "/var/folders/38/nnmd9r6n6_14yltphkbwq2nm0000gn/T/ipykernel_7638/1368915587.py:5: DtypeWarning: Columns (9,10) have mixed types. Specify dtype option on import or set low_memory=False.\n",
      "  data = pd.read_csv(f\"../register/data/people-{s}.csv\")\n",
      "/var/folders/38/nnmd9r6n6_14yltphkbwq2nm0000gn/T/ipykernel_7638/1368915587.py:5: DtypeWarning: Columns (9) have mixed types. Specify dtype option on import or set low_memory=False.\n",
      "  data = pd.read_csv(f\"../register/data/people-{s}.csv\")\n",
      "/var/folders/38/nnmd9r6n6_14yltphkbwq2nm0000gn/T/ipykernel_7638/1368915587.py:5: DtypeWarning: Columns (9) have mixed types. Specify dtype option on import or set low_memory=False.\n",
      "  data = pd.read_csv(f\"../register/data/people-{s}.csv\")\n",
      "/var/folders/38/nnmd9r6n6_14yltphkbwq2nm0000gn/T/ipykernel_7638/1368915587.py:5: DtypeWarning: Columns (8,10) have mixed types. Specify dtype option on import or set low_memory=False.\n",
      "  data = pd.read_csv(f\"../register/data/people-{s}.csv\")\n",
      "/var/folders/38/nnmd9r6n6_14yltphkbwq2nm0000gn/T/ipykernel_7638/1368915587.py:5: DtypeWarning: Columns (9,10) have mixed types. Specify dtype option on import or set low_memory=False.\n",
      "  data = pd.read_csv(f\"../register/data/people-{s}.csv\")\n",
      "/var/folders/38/nnmd9r6n6_14yltphkbwq2nm0000gn/T/ipykernel_7638/1368915587.py:5: DtypeWarning: Columns (9,10) have mixed types. Specify dtype option on import or set low_memory=False.\n",
      "  data = pd.read_csv(f\"../register/data/people-{s}.csv\")\n",
      "/var/folders/38/nnmd9r6n6_14yltphkbwq2nm0000gn/T/ipykernel_7638/1368915587.py:5: DtypeWarning: Columns (9,10) have mixed types. Specify dtype option on import or set low_memory=False.\n",
      "  data = pd.read_csv(f\"../register/data/people-{s}.csv\")\n",
      "/var/folders/38/nnmd9r6n6_14yltphkbwq2nm0000gn/T/ipykernel_7638/1368915587.py:5: DtypeWarning: Columns (9) have mixed types. Specify dtype option on import or set low_memory=False.\n",
      "  data = pd.read_csv(f\"../register/data/people-{s}.csv\")\n",
      "/var/folders/38/nnmd9r6n6_14yltphkbwq2nm0000gn/T/ipykernel_7638/1368915587.py:5: DtypeWarning: Columns (9,10) have mixed types. Specify dtype option on import or set low_memory=False.\n",
      "  data = pd.read_csv(f\"../register/data/people-{s}.csv\")\n"
     ]
    }
   ],
   "source": [
    "all_players = pd.DataFrame()\n",
    "suffix = ['0', '1', '2', '3', '4', '5', '6', '7', '8', '9', 'a', 'b', 'c', 'd', 'e', 'f']\n",
    "\n",
    "for s in suffix:\n",
    "    data = pd.read_csv(f\"../register/data/people-{s}.csv\")\n",
    "    since_2008 = data[\n",
    "        (data[\"mlb_played_first\"] >= 2008) | (data[\"mlb_played_last\"] >= 2008)\n",
    "    ]\n",
    "\n",
    "    all_players = pd.concat([all_players, since_2008], ignore_index=True)"
   ]
  },
  {
   "cell_type": "code",
   "execution_count": 5,
   "metadata": {},
   "outputs": [],
   "source": [
    "players = all_players[[\"key_mlbam\", \"key_bbref\", \"name_last\", \"name_first\"]].drop_duplicates()\n",
    "players[\"key_mlbam\"] = players[\"key_mlbam\"].astype(int)"
   ]
  },
  {
   "cell_type": "code",
   "execution_count": 6,
   "metadata": {},
   "outputs": [],
   "source": [
    "players.to_csv(\"players.csv\", index=False)"
   ]
  }
 ],
 "metadata": {
  "kernelspec": {
   "display_name": "Python 3",
   "language": "python",
   "name": "python3"
  },
  "language_info": {
   "codemirror_mode": {
    "name": "ipython",
    "version": 3
   },
   "file_extension": ".py",
   "mimetype": "text/x-python",
   "name": "python",
   "nbconvert_exporter": "python",
   "pygments_lexer": "ipython3",
   "version": "3.9.6"
  }
 },
 "nbformat": 4,
 "nbformat_minor": 2
}
